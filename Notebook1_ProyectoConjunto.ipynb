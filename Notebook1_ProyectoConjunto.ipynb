{
 "cells": [
  {
   "cell_type": "markdown",
   "metadata": {},
   "source": [
    "<img style=\"float: left; margin: 30px 15px 15px 15px;\" src=\"https://pngimage.net/wp-content/uploads/2018/06/logo-iteso-png-5.png\" width=\"300\" height=\"500\" /> \n",
    "    \n",
    "    \n",
    "### <font color='navy'> Simulación de procesos financieros. \n",
    "\n",
    "*Nombres:* Paloma Martinez y Cristina Lobera\n",
    "\n",
    "*Fecha:* = 04 de febrero del 2020.\n",
    "\n",
    "*Expediente* : 707423 y 714997\n",
    "\n",
    "*Profesor:* Oscar David Jaramillo Zuluaga.\n",
    "\n",
    "*Enlace administrador:* https://github.com/cristinalobera/ProyectoConjunto_LOBERA_MARTINEZ\n",
    "\n",
    "# Tarea 1: Clase 1"
   ]
  },
  {
   "cell_type": "markdown",
   "metadata": {},
   "source": [
    "#ESTUDIANTE 1\n",
    "\n",
    "## Expectativas\n",
    "*En esta materia espero aprender a usar con mejor habilidad las funciones más básicas de Python que hemos aprendido a lo largo de la carrera, para así poder aplicarlas en los procesos financieros que analizaremos en esta materia. \n",
    "\n",
    "## Python is becoming the world’s most popular coding language\n",
    "<font color='grey'>\"I didn’t set out to create a language that was intended for mass consumption,” words from Guido van Rossum who devised Python</font>\n",
    "\n",
    "**Python es un lenguaje de programación que ha ido creciendo exponencialmente con el paso de los años. Sin embargo, se cree que no será capaz de sustituir los siguientes lenguajes:**\n",
    "* C\n",
    "* C++ \n",
    "* Java.\n",
    "\n",
    "*En la siguiente gráfica podemos ver el comportamiento de los diferentes lenguajes de programación y el creciemento de Python que se menciono anteriormente.*\n",
    "\n",
    "<img src=https://www.economist.com/img/b/1280/1401/85/sites/default/files/20180728_WOC883.png>\n"
   ]
  },
  {
   "cell_type": "markdown",
   "metadata": {},
   "source": [
    "ESTUDIANTE 2\n",
    "\n",
    "\n",
    "Resumen de Artículo: Un cientifico holandes hizo un proyecto de ciencia de navidad. El queria creae un lenguaje de programacion que fuera sencillo y facil de leer. El creia que cada parte del código iba a estar separado por espacios de indentacion en blanco. Tambien el iba a dejar a los usuarios crear sus propios paquetes para hacerlos abiertos al público y trabajar en conjunto. Al final tambien quería un nombre interesante y corto, fue cuando creó Python, nombrado despues de Monty Python un grupo de comedia Británico.\n"
   ]
  },
  {
   "cell_type": "markdown",
   "metadata": {},
   "source": [
    "Mis expectativas de la materia son aprender sobre como aplicar los procesos financieros en código Python. Quiero aumentar mi conocimiento sobre la simulación financiera y entender como se aplica diariamente en la vida real.\n"
   ]
  },
  {
   "cell_type": "markdown",
   "metadata": {},
   "source": [
    "<img src=https://destinonegocio.com/wp-content/uploads/2018/02/dn-finanzas-pyme.jpg>"
   ]
  },
  {
   "cell_type": "markdown",
   "metadata": {},
   "source": [
    "\\begin{table}[]\n",
    "\\begin{tabular}{ll}\n",
    "x & y  \\\\\n",
    "4 & 10 \\\\\n",
    "5 & 15 \\\\\n",
    "6 & 20\n",
    "\\end{tabular}\n",
    "\\end{table}"
   ]
  },
  {
   "cell_type": "code",
   "execution_count": null,
   "metadata": {},
   "outputs": [],
   "source": []
  }
 ],
 "metadata": {
  "kernelspec": {
   "display_name": "Python 3",
   "language": "python",
   "name": "python3"
  },
  "language_info": {
   "codemirror_mode": {
    "name": "ipython",
    "version": 3
   },
   "file_extension": ".py",
   "mimetype": "text/x-python",
   "name": "python",
   "nbconvert_exporter": "python",
   "pygments_lexer": "ipython3",
   "version": "3.7.4"
  }
 },
 "nbformat": 4,
 "nbformat_minor": 4
}
