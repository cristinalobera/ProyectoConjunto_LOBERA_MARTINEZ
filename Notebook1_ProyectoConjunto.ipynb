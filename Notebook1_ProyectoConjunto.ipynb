{
 "cells": [
  {
   "cell_type": "markdown",
   "metadata": {},
   "source": [
    "#ESTUDIANTE 1\n",
    "\n",
    "## Expectativas\n",
    "*En esta materia espero aprender a usar con mejor habilidad las funciones más básicas de Python que hemos aprendido a lo largo de la carrera, para así poder aplicarlas en los procesos financieros que analizaremos en esta materia. \n",
    "\n",
    "## Python is becoming the world’s most popular coding language\n",
    "<font color='grey'>\"I didn’t set out to create a language that was intended for mass consumption,” words from Guido van Rossum who devised Python</font>\n",
    "\n",
    "**Python es un lenguaje de programación que ha ido creciendo exponencialmente con el paso de los años. Sin embargo, se cree que no será capaz de sustituir los siguientes lenguajes:**\n",
    "* C\n",
    "* C++ \n",
    "* Java.\n",
    "\n",
    "*En la siguiente gráfica podemos ver el comportamiento de los diferentes lenguajes de programación y el creciemento de Python que se menciono anteriormente.*\n",
    "\n",
    "<img src=https://www.economist.com/img/b/1280/1401/85/sites/default/files/20180728_WOC883.png>\n"
   ]
  },
  {
   "cell_type": "code",
   "execution_count": null,
   "metadata": {},
   "outputs": [],
   "source": [
    "#ESTUDIANTE 2"
   ]
  }
 ],
 "metadata": {
  "kernelspec": {
   "display_name": "Python 3",
   "language": "python",
   "name": "python3"
  },
  "language_info": {
   "codemirror_mode": {
    "name": "ipython",
    "version": 3
   },
   "file_extension": ".py",
   "mimetype": "text/x-python",
   "name": "python",
   "nbconvert_exporter": "python",
   "pygments_lexer": "ipython3",
   "version": "3.7.3"
  }
 },
 "nbformat": 4,
 "nbformat_minor": 4
}
