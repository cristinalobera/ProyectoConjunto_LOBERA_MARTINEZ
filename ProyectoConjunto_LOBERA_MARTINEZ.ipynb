{
 "cells": [
  {
   "cell_type": "markdown",
   "metadata": {},
   "source": [
    "<img style=\"float: left; margin: 30px 15px 15px 15px;\" src=\"https://pngimage.net/wp-content/uploads/2018/06/logo-iteso-png-5.png\" width=\"300\" height=\"500\" /> \n",
    "    \n",
    "    \n",
    "### <font color='navy'> Simulación de procesos financieros. \n",
    "\n",
    "*Nombres:* Paloma Martinez y Cristina Lobera\n",
    "\n",
    "*Fecha:* = 04 de febrero del 2020.\n",
    "\n",
    "*Expediente* : 707423 y 714997\n",
    "\n",
    "*Profesor:* Oscar David Jaramillo Zuluaga.\n",
    "\n",
    "*Enlace administrador:* https://github.com/cristinalobera/ProyectoConjunto_LOBERA_MARTINEZ\n",
    "\n",
    "# Tarea 1: Clase 1"
   ]
  },
  {
   "cell_type": "markdown",
   "metadata": {},
   "source": [
    "#ESTUDIANTE 1\n",
    "\n",
    "## Expectativas\n",
    "*En esta materia espero aprender a usar con mejor habilidad las funciones más básicas de Python que hemos aprendido a lo largo de la carrera, para así poder aplicarlas en los procesos financieros que analizaremos en esta materia. \n",
    "\n",
    "## Python is becoming the world’s most popular coding language\n",
    "<font color='grey'>\"I didn’t set out to create a language that was intended for mass consumption,” words from Guido van Rossum who devised Python</font>\n",
    "\n",
    "**Python es un lenguaje de programación que ha ido creciendo exponencialmente con el paso de los años. Sin embargo, se cree que no será capaz de sustituir los siguientes lenguajes:**\n",
    "* C\n",
    "* C++ \n",
    "* Java.\n",
    "\n",
    "*En la siguiente gráfica podemos ver el comportamiento de los diferentes lenguajes de programación y el creciemento de Python que se menciono anteriormente.*\n",
    "\n",
    "<img src=https://www.economist.com/img/b/1280/1401/85/sites/default/files/20180728_WOC883.png>\n"
   ]
  },
  {
   "cell_type": "markdown",
   "metadata": {},
   "source": [
    "ESTUDIANTE 2\n",
    "\n",
    "\n",
    "Resumen de Artículo: Un cientifico holandes hizo un proyecto de ciencia de navidad. El queria creae un lenguaje de programacion que fuera sencillo y facil de leer. El creia que cada parte del código iba a estar separado por espacios de indentacion en blanco. Tambien el iba a dejar a los usuarios crear sus propios paquetes para hacerlos abiertos al público y trabajar en conjunto. Al final tambien quería un nombre interesante y corto, fue cuando creó Python, nombrado despues de Monty Python un grupo de comedia Británico.\n"
   ]
  },
  {
   "cell_type": "markdown",
   "metadata": {},
   "source": [
    "Mis expectativas de la materia son aprender sobre como aplicar los procesos financieros en código Python. Quiero aumentar mi conocimiento sobre la simulación financiera y entender como se aplica diariamente en la vida real.\n"
   ]
  },
  {
   "cell_type": "markdown",
   "metadata": {},
   "source": [
    "<img src=https://destinonegocio.com/wp-content/uploads/2018/02/dn-finanzas-pyme.jpg>"
   ]
  },
  {
   "cell_type": "markdown",
   "metadata": {},
   "source": [
    "\\begin{table}[]\n",
    "\\begin{tabular}{ll}\n",
    "x & y  \\\\\n",
    "4 & 10 \\\\\n",
    "5 & 15 \\\\\n",
    "6 & 20\n",
    "\\end{tabular}\n",
    "\\end{table}"
   ]
  },
  {
   "cell_type": "code",
   "execution_count": null,
   "metadata": {},
   "outputs": [],
   "source": [
    "# FORMULAS PALOMA"
   ]
  },
  {
   "cell_type": "markdown",
   "metadata": {},
   "source": [
    "# FORMULAS CRISTINA\n",
    "1. La fórmula del rectángulo se obtiene al interpolar a $f(x)$ por medio del polinomio constante $p_0(x)=f(\\frac{a+b}{2})$.\n",
    "\n",
    "$$\\int_{a}^{b} f(x) dx \\approx (b-a)f(\\frac{a+b}{2})=R(f).$$\n",
    "\n",
    "2. La fórmula del trapecio se obtiene al interpolar a $f$ por medio de un polinomio lineal $p_1(x)=\\alpha x+ \\beta$ que satisfaga $f(a)=p_1(a)$, y $f(b)=p_1(b)$. Determinar el polinomio lineal es equivalente a resolver un sistema de ecuaciones lineales para $\\alpha$ y $\\beta$ cuya solución es \n",
    "\n",
    "$$\\alpha = \\frac{f(b)-f(a)}{b-a} \\ \\beta = \\frac{f(b)a-f(a)b}{b-a}$$\n",
    "\n",
    "Al integrar $p_1(x)$ en el intervalo $[a,b]$ se obtiene la regla del trapecio con $h=b-a$\n",
    "\n",
    "$$\\int_{a}^{b} f(x) dx \\approx \\int_{a}^{b} p_1(x) dx = \\frac{h}{2}(f(a)+f(b))=T(f).$$\n",
    "\n",
    "El error está dado por\n",
    "\n",
    "$$\\int_{a}^{b} f(x)dx-T(f)=-\\frac{h^3}{12}(f''(\\eta)), \\ a<\\eta<b.$$\n",
    "\n",
    "3. Por último al integrar el polinomio cuadrático que interpola a $f$ en $x=a, \\ x=\\frac{a+b}{2}$. y $x=b$ se obtiene la regla de Simpson con $h=\\frac{b-a}{2}$\n",
    "\n",
    "$$\\int_{a}^{b} f(x) dx \\approx \\int_{a}^{b}p_2(x)dx=\\frac{h}{3}(f(a)+4f(a+h)+f(b))=S(f).$$\n",
    "\n",
    "El error que se comete al usar Simpson es\n",
    "\n",
    "$$\\int_{a}^{b}f(x)dx-S(f)=\\frac{h^5}{90}(f^{(4)}(\\eta)), \\ a<\\eta<b.$$"
   ]
  },
  {
   "cell_type": "markdown",
   "metadata": {},
   "source": [
    "## Fibonacci"
   ]
  },
  {
   "cell_type": "code",
   "execution_count": 1,
   "metadata": {},
   "outputs": [
    {
     "name": "stdout",
     "output_type": "stream",
     "text": [
      "0 1 1 2 3 5 8 13 21 34 55 89 144 233 377 610 987 1597 2584 4181 6765 10946 17711 28657 46368 75025 121393 196418 317811 514229 832040 1346269 2178309 3524578 5702887 9227465 14930352 24157817 39088169 63245986 102334155 165580141 267914296 433494437 701408733 1134903170 1836311903 2971215073 4807526976 7778742049 12586269025 20365011074 32951280099 53316291173 86267571272 139583862445 225851433717 365435296162 591286729879 956722026041 1548008755920 2504730781961 4052739537881 6557470319842 10610209857723 17167680177565 27777890035288 44945570212853 72723460248141 117669030460994 190392490709135 308061521170129 498454011879264 806515533049393 1304969544928657 2111485077978050 3416454622906707 5527939700884757 8944394323791464 14472334024676221 23416728348467685 37889062373143906 61305790721611591 99194853094755497 160500643816367088 259695496911122585 420196140727489673 679891637638612258 1100087778366101931 1779979416004714189 2880067194370816120 4660046610375530309 7540113804746346429 12200160415121876738 19740274219868223167 31940434634990099905 51680708854858323072 83621143489848422977 135301852344706746049 218922995834555169026 "
     ]
    }
   ],
   "source": [
    "a, b = 0,1\n",
    "for i in range(100):\n",
    "    print(a, end=' ')\n",
    "    a, b = b, a + b\n"
   ]
  },
  {
   "cell_type": "markdown",
   "metadata": {},
   "source": [
    "# Formulas Paloma"
   ]
  },
  {
   "cell_type": "markdown",
   "metadata": {},
   "source": [
    "\n",
    "1. La fórmula del rectángulo se obtiene al interpolar a $f(x)$ por medio del polinomio constante $p_0(x)=f(\\frac{a+b}{2})$.\n",
    "\n",
    "$$\\int_{a}^{b} f(x) dx \\approx (b-a)f(\\frac{a+b}{2})=R(f).$$\n",
    "\n",
    "2. La fórmula del trapecio se obtiene al interpolar a $f$ por medio de un polinomio lineal $p_1(x)=\\alpha x+ \\beta$ que satisfaga $f(a)=p_1(a)$, y $f(b)=p_1(b)$. Determinar el polinomio lineal es equivalente a resolver un sistema de ecuaciones lineales para $\\alpha$ y $\\beta$ cuya solución es \n",
    "\n",
    "$$\\alpha = \\frac{f(b)-f(a)}{b-a} \\ \\beta = \\frac{f(b)a-f(a)b}{b-a}$$\n",
    "\n",
    "Al integrar $p_1(x)$ en el intervalo $[a,b]$ se obtiene la regla del trapecio con $h=b-a$\n",
    "\n",
    "$$\\int_{a}^{b} f(x) dx \\approx \\int_{a}^{b} p_1(x) dx = \\frac{h}{2}(f(a)+f(b))=T(f).$$\n",
    "\n",
    "El error está dado por\n",
    "\n",
    "$$\\int_{a}^{b} f(x)dx-T(f)=-\\frac{h^3}{12}(f''(\\eta)), \\ a<\\eta<b.$$\n",
    "\n",
    "3. Por último al integrar el polinomio cuadrático que interpola a $f$ en $x=a, \\ x=\\frac{a+b}{2}$. y $x=b$ se obtiene la regla de Simpson con $h=\\frac{b-a}{2}$\n",
    "\n",
    "$$\\int_{a}^{b} f(x) dx \\approx \\int_{a}^{b}p_2(x)dx=\\frac{h}{3}(f(a)+4f(a+h)+f(b))=S(f).$$\n",
    "\n",
    "El error que se comete al usar Simpson es\n",
    "\n",
    "$$\\int_{a}^{b}f(x)dx-S(f)=\\frac{h^5}{90}(f^{(4)}(\\eta)), \\ a<\\eta<b.$$"
   ]
  },
  {
   "cell_type": "code",
   "execution_count": 1,
   "metadata": {},
   "outputs": [
    {
     "name": "stdout",
     "output_type": "stream",
     "text": [
      "3\n",
      "5\n",
      "7\n",
      "9\n",
      "11\n",
      "13\n",
      "15\n",
      "17\n",
      "19\n",
      "21\n",
      "23\n",
      "25\n",
      "27\n",
      "29\n",
      "31\n",
      "33\n",
      "35\n",
      "37\n",
      "39\n",
      "41\n",
      "43\n",
      "45\n",
      "47\n",
      "49\n",
      "51\n",
      "53\n",
      "55\n",
      "57\n",
      "59\n",
      "61\n",
      "63\n",
      "65\n",
      "67\n",
      "69\n",
      "71\n",
      "73\n",
      "75\n",
      "77\n",
      "79\n",
      "81\n",
      "83\n",
      "85\n",
      "87\n",
      "89\n",
      "91\n",
      "93\n",
      "95\n",
      "97\n",
      "99\n"
     ]
    }
   ],
   "source": [
    "for num in range(1,101):\n",
    "    for i in range(2,num):\n",
    "        if (num%i==0):\n",
    "            break\n",
    "        else:\n",
    "            print(num)\n",
    "            break"
   ]
  },
  {
   "cell_type": "code",
   "execution_count": null,
   "metadata": {},
   "outputs": [],
   "source": []
  }
 ],
 "metadata": {
  "kernelspec": {
   "display_name": "Python 3",
   "language": "python",
   "name": "python3"
  },
  "language_info": {
   "codemirror_mode": {
    "name": "ipython",
    "version": 3
   },
   "file_extension": ".py",
   "mimetype": "text/x-python",
   "name": "python",
   "nbconvert_exporter": "python",
   "pygments_lexer": "ipython3",
   "version": "3.7.3"
  }
 },
 "nbformat": 4,
 "nbformat_minor": 4
}
